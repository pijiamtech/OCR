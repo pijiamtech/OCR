{
 "cells": [
  {
   "cell_type": "code",
   "execution_count": 11,
   "metadata": {},
   "outputs": [
    {
     "name": "stdout",
     "output_type": "stream",
     "text": [
      "แ ผ น ภู มิ ค ว บ คุ ม สำ ห รั บ ตั ว แ ป ร ( ตั ว แ ป ร เ ชิ ง ป ริ ม า ณ )\n",
      "\n"
     ]
    }
   ],
   "source": [
    "import pytesseract\n",
    "from PIL import Image, ImageGrab\n",
    "\n",
    "if __name__ == \"__main__\":\n",
    "    img = Image.open('image.png')\n",
    "    result = pytesseract.image_to_string(img, lang=\"tha+eng\")\n",
    "    print(result)"
   ]
  },
  {
   "cell_type": "code",
   "execution_count": 9,
   "metadata": {},
   "outputs": [
    {
     "name": "stdout",
     "output_type": "stream",
     "text": [
      "I'm Pichai\n",
      "\n"
     ]
    }
   ],
   "source": [
    "import pytesseract\n",
    "from PIL import Image, ImageGrab\n",
    "\n",
    "def trim_str(raw_txt):\n",
    "    new_txt = \"\"\n",
    "    for i in range(len(raw_txt)):\n",
    "        if ord(raw_txt[i]) != 32:\n",
    "            new_txt += raw_txt[i]\n",
    "        elif ord(raw_txt[i+1]) < 3585:\n",
    "            new_txt += raw_txt[i]\n",
    "    return new_txt\n",
    "\n",
    "if __name__ == \"__main__\":\n",
    "    img = Image.open('1113.png')\n",
    "    result = pytesseract.image_to_string(img, lang=\"tha+eng\")\n",
    "    new_txt = trim_str(result)\n",
    "    print(new_txt)"
   ]
  },
  {
   "cell_type": "code",
   "execution_count": 5,
   "metadata": {},
   "outputs": [
    {
     "name": "stdout",
     "output_type": "stream",
     "text": [
      "ขุ ด ค ว า ม ห นื ด\n",
      "1 33.75\n",
      "2 33.05\n",
      "3 34\n",
      "4 33.81\n",
      "5 33.46\n",
      "6 34.02\n",
      "7 33.68\n",
      "8 33.27\n",
      "9 33.49\n",
      "10 33.2\n",
      "11 33.62\n",
      "12 33\n",
      "13 33.54\n",
      "14 33.12\n",
      "15 33.84\n",
      "\n",
      "\n"
     ]
    }
   ],
   "source": [
    "import pytesseract\n",
    "from PIL import Image\n",
    "\n",
    "# โหลดรูปภาพ\n",
    "image_path = \"exam.png\"\n",
    "image = Image.open(image_path)\n",
    "\n",
    "# แปลงรูปภาพเป็นข้อความ\n",
    "text = pytesseract.image_to_string(image, lang='tha+eng')\n",
    "\n",
    "print(text)\n"
   ]
  },
  {
   "cell_type": "code",
   "execution_count": 6,
   "metadata": {},
   "outputs": [
    {
     "name": "stdout",
     "output_type": "stream",
     "text": [
      "ข้อมูลถูกบันทึกลงในไฟล์ viscosity_data_from_ocr.xlsx\n"
     ]
    }
   ],
   "source": [
    "import pandas as pd\n",
    "\n",
    "# แปลงข้อความเป็นข้อมูลตาราง\n",
    "data = []\n",
    "lines = text.split('\\n')\n",
    "for line in lines:\n",
    "    if line.strip():  # ข้ามบรรทัดว่าง\n",
    "        parts = line.split()\n",
    "        if len(parts) == 2:\n",
    "            try:\n",
    "                set_num = int(parts[0])\n",
    "                viscosity = float(parts[1])\n",
    "                data.append((set_num, viscosity))\n",
    "            except ValueError:\n",
    "                # ข้ามหัวข้อหรือบรรทัดที่ไม่สามารถแปลงเป็นตัวเลขได้\n",
    "                pass\n",
    "\n",
    "# สร้าง DataFrame\n",
    "df = pd.DataFrame(data, columns=['ชุด', 'ความหนืด'])\n",
    "\n",
    "# บันทึกเป็นไฟล์ Excel\n",
    "output_path = \"exam.xlsx\"\n",
    "df.to_excel(output_path, index=False)\n",
    "print(f\"ข้อมูลถูกบันทึกลงในไฟล์ {output_path}\")\n"
   ]
  }
 ],
 "metadata": {
  "kernelspec": {
   "display_name": "base",
   "language": "python",
   "name": "python3"
  },
  "language_info": {
   "codemirror_mode": {
    "name": "ipython",
    "version": 3
   },
   "file_extension": ".py",
   "mimetype": "text/x-python",
   "name": "python",
   "nbconvert_exporter": "python",
   "pygments_lexer": "ipython3",
   "version": "3.9.13"
  }
 },
 "nbformat": 4,
 "nbformat_minor": 2
}
