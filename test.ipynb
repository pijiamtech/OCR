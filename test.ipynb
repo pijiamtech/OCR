{
 "cells": [
  {
   "cell_type": "code",
   "execution_count": 11,
   "metadata": {},
   "outputs": [
    {
     "name": "stdout",
     "output_type": "stream",
     "text": [
      "แ ผ น ภู มิ ค ว บ คุ ม สำ ห รั บ ตั ว แ ป ร ( ตั ว แ ป ร เ ชิ ง ป ริ ม า ณ )\n",
      "\n"
     ]
    }
   ],
   "source": [
    "import pytesseract\n",
    "from PIL import Image, ImageGrab\n",
    "\n",
    "if __name__ == \"__main__\":\n",
    "    img = Image.open('image.png')\n",
    "    result = pytesseract.image_to_string(img, lang=\"tha+eng\")\n",
    "    print(result)"
   ]
  },
  {
   "cell_type": "code",
   "execution_count": 9,
   "metadata": {},
   "outputs": [
    {
     "name": "stdout",
     "output_type": "stream",
     "text": [
      "I'm Pichai\n",
      "\n"
     ]
    }
   ],
   "source": [
    "import pytesseract\n",
    "from PIL import Image, ImageGrab\n",
    "\n",
    "def trim_str(raw_txt):\n",
    "    new_txt = \"\"\n",
    "    for i in range(len(raw_txt)):\n",
    "        if ord(raw_txt[i]) != 32:\n",
    "            new_txt += raw_txt[i]\n",
    "        elif ord(raw_txt[i+1]) < 3585:\n",
    "            new_txt += raw_txt[i]\n",
    "    return new_txt\n",
    "\n",
    "if __name__ == \"__main__\":\n",
    "    img = Image.open('1113.png')\n",
    "    result = pytesseract.image_to_string(img, lang=\"tha+eng\")\n",
    "    new_txt = trim_str(result)\n",
    "    print(new_txt)"
   ]
  }
 ],
 "metadata": {
  "kernelspec": {
   "display_name": "base",
   "language": "python",
   "name": "python3"
  },
  "language_info": {
   "codemirror_mode": {
    "name": "ipython",
    "version": 3
   },
   "file_extension": ".py",
   "mimetype": "text/x-python",
   "name": "python",
   "nbconvert_exporter": "python",
   "pygments_lexer": "ipython3",
   "version": "3.9.13"
  }
 },
 "nbformat": 4,
 "nbformat_minor": 2
}
